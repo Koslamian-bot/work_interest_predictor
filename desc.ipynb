{
 "cells": [
  {
   "cell_type": "code",
   "execution_count": 161,
   "id": "b76c7b59-6d9a-459f-be92-361d09f12750",
   "metadata": {},
   "outputs": [],
   "source": [
    "#importing the data set \n",
    "\n",
    "import pandas as pd\n",
    "from sklearn.tree import DecisionTreeClassifier\n",
    "\n",
    "ds = pd.read_csv(\"Mental Health Dataset.csv\")\n",
    "\n"
   ]
  },
  {
   "cell_type": "code",
   "execution_count": 79,
   "id": "708f6fa0-1d16-4d22-b88f-dbe5d3a01b54",
   "metadata": {},
   "outputs": [],
   "source": [
    "#splitting the dataframes \n",
    "\n",
    "Ip = ds[['Gender','Country','Occupation','Days_Indoors']].copy()\n",
    "Op = ds[['Growing_Stress','Social_Weakness']].copy()"
   ]
  },
  {
   "cell_type": "code",
   "execution_count": 82,
   "id": "41decccd-0850-4809-88c3-2e4a97cc8fa6",
   "metadata": {},
   "outputs": [],
   "source": [
    "# making the data frames into num-data\n",
    "from sklearn.preprocessing import LabelEncoder\n",
    "model = DecisionTreeClassifier()\n",
    "encoder = LabelEncoder()\n",
    "\n",
    "for col in Ip.columns:\n",
    "    Ip[col] = encoder.fit_transform(Ip[col].astype(str))\n",
    "\n",
    "for col in Op.columns:\n",
    "    Op[col] = encoder.fit_transform(Op[col].astype(str))\n"
   ]
  },
  {
   "cell_type": "code",
   "execution_count": 173,
   "id": "395bc12c-6be9-43cb-b8b6-c6232b5db3bc",
   "metadata": {},
   "outputs": [],
   "source": [
    "#splitting the training and testing data\n",
    "\n",
    "from sklearn.model_selection import train_test_split\n",
    "\n",
    "Ip_train , Ip_test , Op_train , Op_test = train_test_split(Ip,Op,test_size=0.1)\n",
    "\n"
   ]
  },
  {
   "cell_type": "code",
   "execution_count": 174,
   "id": "8e76a6d6-b12b-4c5f-96d8-36f9a624336f",
   "metadata": {},
   "outputs": [
    {
     "data": {
      "text/plain": [
       "['health_tester.joblib']"
      ]
     },
     "execution_count": 174,
     "metadata": {},
     "output_type": "execute_result"
    }
   ],
   "source": [
    "#making a decision tree model for training and predicting\n",
    "\n",
    "from sklearn.tree import DecisionTreeClassifier\n",
    "import joblib\n",
    "\n",
    "model = DecisionTreeClassifier()\n",
    "model.fit(Ip_train.values,Op_train.values)\n",
    "\n",
    "predictions = model.predict(Ip_test.values)\n",
    "\n",
    "joblib.dump(model,'health_tester.joblib')"
   ]
  },
  {
   "cell_type": "code",
   "execution_count": 175,
   "id": "0d3123d5-1ef3-47c0-b7ae-8e1cea105510",
   "metadata": {},
   "outputs": [
    {
     "data": {
      "text/plain": [
       "0.6375483120703218"
      ]
     },
     "execution_count": 175,
     "metadata": {},
     "output_type": "execute_result"
    }
   ],
   "source": [
    "#accuracy testing \n",
    "\n",
    "from sklearn.metrics import accuracy_score\n",
    "import numpy as np\n",
    "\n",
    "# Convert multiclass-multioutput format to a supported format\n",
    "\n",
    "Op_test_flat = np.argmax(Op_test, axis=1) if len(Op_test.shape) > 1 else Op_test\n",
    "predictions_flat = np.argmax(predictions, axis=1) if len(predictions.shape) > 1 else predictions\n",
    "\n",
    "# Use the flattened/converted arrays\n",
    "result = accuracy_score(Op_test_flat, predictions_flat)\n",
    "\n",
    "result"
   ]
  },
  {
   "cell_type": "code",
   "execution_count": 177,
   "id": "2cd81a06-1ae6-4c4a-a0b5-81615f3fbef1",
   "metadata": {},
   "outputs": [],
   "source": [
    "#visuvalising the decision tree\n",
    "\n",
    "from sklearn import tree\n",
    "\n",
    "tree.export_graphviz(model,'modelvis.dot',\n",
    "                    feature_names = ['Gender','Country','Occupation','Days_Indoors'],\n",
    "                     class_names = sorted(Op),\n",
    "                     label = 'all',\n",
    "                     rounded = True,\n",
    "                     filled = True\n",
    "                    )"
   ]
  },
  {
   "cell_type": "code",
   "execution_count": 169,
   "id": "6a70a40a-bfde-4f1a-85f7-f45748112ff9",
   "metadata": {},
   "outputs": [],
   "source": [
    "# 0->maybe\n",
    "# 1->No\n",
    "# 2->Yes"
   ]
  },
  {
   "cell_type": "code",
   "execution_count": null,
   "id": "59ae06a4-8c2e-4890-80e6-e1248772192e",
   "metadata": {},
   "outputs": [],
   "source": []
  }
 ],
 "metadata": {
  "kernelspec": {
   "display_name": "Python [conda env:base] *",
   "language": "python",
   "name": "conda-base-py"
  },
  "language_info": {
   "codemirror_mode": {
    "name": "ipython",
    "version": 3
   },
   "file_extension": ".py",
   "mimetype": "text/x-python",
   "name": "python",
   "nbconvert_exporter": "python",
   "pygments_lexer": "ipython3",
   "version": "3.13.5"
  }
 },
 "nbformat": 4,
 "nbformat_minor": 5
}
